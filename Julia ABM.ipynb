{
 "cells": [
  {
   "cell_type": "code",
   "execution_count": 102,
   "metadata": {},
   "outputs": [
    {
     "name": "stderr",
     "output_type": "stream",
     "text": [
      "┌ Info: Precompiling BenchmarkTools [6e4b80f9-dd63-53aa-95a3-0cdb28fa8baf]\n",
      "└ @ Base loading.jl:1260\n"
     ]
    }
   ],
   "source": [
    "using Agents\n",
    "using BenchmarkTools"
   ]
  },
  {
   "cell_type": "code",
   "execution_count": 2,
   "metadata": {},
   "outputs": [],
   "source": [
    "# Define the agent.  Contains an id, position (2d space), and wealth\n",
    "mutable struct WealthAgent <: AbstractAgent\n",
    "    id::Int\n",
    "    pos::NTuple{2,Int}\n",
    "    wealth::Int\n",
    "end"
   ]
  },
  {
   "cell_type": "code",
   "execution_count": null,
   "metadata": {},
   "outputs": [],
   "source": [
    "#Initialization function for the model\n",
    "function wealth_model(; dims=(25, 25), numagents=100, wealth=1)\n",
    "    space = GridSpace(dims, periodic=true, moore=true)\n",
    "    model = ABM(WealthAgent, space, scheduler=random_activation)\n",
    "    for i in 1:numagents\n",
    "        add_agent!(model, wealth)\n",
    "    end\n",
    "    return model\n",
    "end"
   ]
  },
  {
   "cell_type": "code",
   "execution_count": 44,
   "metadata": {},
   "outputs": [
    {
     "data": {
      "text/plain": [
       "agent_move! (generic function with 1 method)"
      ]
     },
     "execution_count": 44,
     "metadata": {},
     "output_type": "execute_result"
    }
   ],
   "source": [
    "#Define function for moving the agent - can move one grid square (diagonally included)\n",
    "function agent_move!(agent, model)\n",
    "    node = Agents.coord2vertex(agent.pos, model)\n",
    "    neighbors = node_neighbors(node, model)\n",
    "    target = rand(neighbors)\n",
    "    move_agent!(agent, target, model)\n",
    "end"
   ]
  },
  {
   "cell_type": "code",
   "execution_count": 40,
   "metadata": {},
   "outputs": [
    {
     "data": {
      "text/plain": [
       "agent_give! (generic function with 1 method)"
      ]
     },
     "execution_count": 40,
     "metadata": {},
     "output_type": "execute_result"
    }
   ],
   "source": [
    "#Define function for passing wealth from one agent to another random agent within the same grid square\n",
    "function agent_give!(agent, model)\n",
    "    cellmates = Agents.get_node_contents(agent, model)\n",
    "    if size(cellmates)[1] > 1\n",
    "        other = model[rand(cellmates)]\n",
    "        other.wealth += 1\n",
    "        agent.wealth -= 1\n",
    "    end\n",
    "end"
   ]
  },
  {
   "cell_type": "code",
   "execution_count": 31,
   "metadata": {},
   "outputs": [
    {
     "data": {
      "text/plain": [
       "agent_step! (generic function with 1 method)"
      ]
     },
     "execution_count": 31,
     "metadata": {},
     "output_type": "execute_result"
    }
   ],
   "source": [
    "#Define function for updating an agent\n",
    "function agent_step!(agent, model)\n",
    "    agent_move!(agent, model)\n",
    "    if agent.wealth > 0\n",
    "        agent_give!(agent, model)\n",
    "    end\n",
    "end"
   ]
  },
  {
   "cell_type": "code",
   "execution_count": 91,
   "metadata": {},
   "outputs": [
    {
     "data": {
      "text/plain": [
       "gini (generic function with 1 method)"
      ]
     },
     "execution_count": 91,
     "metadata": {},
     "output_type": "execute_result"
    }
   ],
   "source": [
    "#Define function for calculating entropy (Gini)\n",
    "# a is a generator of agents\n",
    "function gini(a)\n",
    "    N = Agents.nagents(model)\n",
    "    w = Array{Int64, 1}(undef, N)\n",
    "    for (i, agent) in enumerate(collect(a)) \n",
    "        w[i] = agent\n",
    "    end\n",
    "    x = sort(w)\n",
    "    B = 0\n",
    "    for i in 1:N\n",
    "        B += x[i]*(N-i)\n",
    "    end\n",
    "    B /= (N * sum(x))\n",
    "    return (1 + (1/N) - 2*B) \n",
    "end"
   ]
  },
  {
   "cell_type": "code",
   "execution_count": 107,
   "metadata": {},
   "outputs": [
    {
     "data": {
      "text/plain": [
       "BenchmarkTools.Trial: \n",
       "  memory estimate:  355.81 MiB\n",
       "  allocs estimate:  6133379\n",
       "  --------------\n",
       "  minimum time:     1.690 s (2.60% GC)\n",
       "  median time:      1.775 s (10.53% GC)\n",
       "  mean time:        1.756 s (8.82% GC)\n",
       "  maximum time:     1.804 s (10.36% GC)\n",
       "  --------------\n",
       "  samples:          3\n",
       "  evals/sample:     1"
      ]
     },
     "execution_count": 107,
     "metadata": {},
     "output_type": "execute_result"
    }
   ],
   "source": [
    "#Use benchmark library to test model speed\n",
    "@benchmark begin\n",
    "model = wealth_model(dims=(100, 100), numagents=10000)\n",
    "adata = [:wealth, :pos]\n",
    "data, _ = run!(model, agent_step!, 200; adata=adata)\n",
    "end"
   ]
  }
 ],
 "metadata": {
  "creator": "admin",
  "customFields": {},
  "kernelspec": {
   "display_name": "Julia 1.4.1",
   "language": "julia",
   "name": "julia-1.4"
  },
  "language_info": {
   "file_extension": ".jl",
   "mimetype": "application/julia",
   "name": "julia",
   "version": "1.4.1"
  },
  "tags": []
 },
 "nbformat": 4,
 "nbformat_minor": 1
}